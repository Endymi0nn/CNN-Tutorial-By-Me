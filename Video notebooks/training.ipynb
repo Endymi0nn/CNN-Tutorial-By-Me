{
 "cells": [
  {
   "cell_type": "code",
   "execution_count": 1,
   "metadata": {},
   "outputs": [],
   "source": [
    "import numpy as np\n",
    "from tensorflow import keras"
   ]
  },
  {
   "cell_type": "code",
   "execution_count": 2,
   "metadata": {},
   "outputs": [],
   "source": [
    "import tensorflow_hub as hub\n",
    "mobile_model=\"https://tfhub.dev/google/imagenet/mobilenet_v2_100_128/feature_vector/5\"\n",
    "pretrained_model_without_top_layer=hub.KerasLayer(mobile_model,input_shape=(128,128,3),trainable=False)"
   ]
  },
  {
   "attachments": {},
   "cell_type": "markdown",
   "metadata": {},
   "source": [
    "Loading our data"
   ]
  },
  {
   "cell_type": "code",
   "execution_count": 3,
   "metadata": {},
   "outputs": [],
   "source": [
    "npzfile=np.load('Preprocessed_data.npz')"
   ]
  },
  {
   "cell_type": "code",
   "execution_count": 4,
   "metadata": {},
   "outputs": [],
   "source": [
    "npzfile.files\n",
    "X=npzfile['arr_0']\n",
    "Y=npzfile['arr_1']"
   ]
  },
  {
   "cell_type": "code",
   "execution_count": 5,
   "metadata": {},
   "outputs": [],
   "source": [
    "X=X/255"
   ]
  },
  {
   "attachments": {},
   "cell_type": "markdown",
   "metadata": {},
   "source": [
    "Splitting the data"
   ]
  },
  {
   "cell_type": "code",
   "execution_count": 7,
   "metadata": {},
   "outputs": [],
   "source": [
    "from sklearn.model_selection import train_test_split\n",
    "x_train,x_test,y_train,y_test=train_test_split(X,Y,test_size=0.2)"
   ]
  },
  {
   "attachments": {},
   "cell_type": "markdown",
   "metadata": {},
   "source": [
    "Augmenting the data"
   ]
  },
  {
   "cell_type": "code",
   "execution_count": 8,
   "metadata": {},
   "outputs": [],
   "source": [
    "data_augmentation=keras.Sequential([\n",
    "  keras.layers.experimental.preprocessing.RandomFlip(\"horizontal\",input_shape=(128,128,3)),\n",
    "  keras.layers.experimental.preprocessing.RandomRotation(0.1) ,\n",
    "  keras.layers.experimental.preprocessing.RandomZoom(0.1)\n",
    "])"
   ]
  },
  {
   "attachments": {},
   "cell_type": "markdown",
   "metadata": {},
   "source": [
    "Model creation and training"
   ]
  },
  {
   "cell_type": "code",
   "execution_count": 9,
   "metadata": {},
   "outputs": [],
   "source": [
    "model=keras.Sequential([\n",
    "                data_augmentation,\n",
    "                pretrained_model_without_top_layer,\n",
    "                keras.layers.Dropout(0.5),\n",
    "                keras.layers.Dense(6,activation='softmax')\n",
    "])"
   ]
  },
  {
   "cell_type": "code",
   "execution_count": 10,
   "metadata": {},
   "outputs": [],
   "source": [
    "model.compile(optimizer='adam',loss='sparse_categorical_crossentropy',metrics=['accuracy'])"
   ]
  },
  {
   "cell_type": "code",
   "execution_count": 11,
   "metadata": {},
   "outputs": [
    {
     "name": "stdout",
     "output_type": "stream",
     "text": [
      "Epoch 1/100\n",
      "15/15 [==============================] - 9s 62ms/step - loss: 2.0382 - accuracy: 0.3187\n",
      "Epoch 2/100\n",
      "15/15 [==============================] - 0s 27ms/step - loss: 0.8409 - accuracy: 0.6876\n",
      "Epoch 3/100\n",
      "15/15 [==============================] - 0s 28ms/step - loss: 0.4620 - accuracy: 0.8574\n",
      "Epoch 4/100\n",
      "15/15 [==============================] - 0s 28ms/step - loss: 0.2933 - accuracy: 0.9078\n",
      "Epoch 5/100\n",
      "15/15 [==============================] - 0s 28ms/step - loss: 0.2251 - accuracy: 0.9182\n",
      "Epoch 6/100\n",
      "15/15 [==============================] - 0s 27ms/step - loss: 0.1888 - accuracy: 0.9434\n",
      "Epoch 7/100\n",
      "15/15 [==============================] - 0s 26ms/step - loss: 0.1526 - accuracy: 0.9623\n",
      "Epoch 8/100\n",
      "15/15 [==============================] - 0s 27ms/step - loss: 0.1404 - accuracy: 0.9497\n",
      "Epoch 9/100\n",
      "15/15 [==============================] - 0s 26ms/step - loss: 0.1470 - accuracy: 0.9560\n",
      "Epoch 10/100\n",
      "15/15 [==============================] - 0s 26ms/step - loss: 0.1029 - accuracy: 0.9727\n",
      "Epoch 11/100\n",
      "15/15 [==============================] - 0s 24ms/step - loss: 0.1069 - accuracy: 0.9665\n",
      "Epoch 12/100\n",
      "15/15 [==============================] - 0s 24ms/step - loss: 0.0779 - accuracy: 0.9769\n",
      "Epoch 13/100\n",
      "15/15 [==============================] - 0s 24ms/step - loss: 0.0880 - accuracy: 0.9748\n",
      "Epoch 14/100\n",
      "15/15 [==============================] - 0s 24ms/step - loss: 0.0736 - accuracy: 0.9895\n",
      "Epoch 15/100\n",
      "15/15 [==============================] - 0s 24ms/step - loss: 0.0654 - accuracy: 0.9874\n",
      "Epoch 16/100\n",
      "15/15 [==============================] - 0s 25ms/step - loss: 0.0624 - accuracy: 0.9853\n",
      "Epoch 17/100\n",
      "15/15 [==============================] - 0s 24ms/step - loss: 0.0686 - accuracy: 0.9811\n",
      "Epoch 18/100\n",
      "15/15 [==============================] - 0s 25ms/step - loss: 0.0576 - accuracy: 0.9874\n",
      "Epoch 19/100\n",
      "15/15 [==============================] - 0s 24ms/step - loss: 0.0506 - accuracy: 0.9874\n",
      "Epoch 20/100\n",
      "15/15 [==============================] - 0s 25ms/step - loss: 0.0413 - accuracy: 0.9874\n",
      "Epoch 21/100\n",
      "15/15 [==============================] - 0s 25ms/step - loss: 0.0459 - accuracy: 0.9853\n",
      "Epoch 22/100\n",
      "15/15 [==============================] - 0s 25ms/step - loss: 0.0475 - accuracy: 0.9895\n",
      "Epoch 23/100\n",
      "15/15 [==============================] - 0s 25ms/step - loss: 0.0437 - accuracy: 0.9937\n",
      "Epoch 24/100\n",
      "15/15 [==============================] - 0s 26ms/step - loss: 0.0455 - accuracy: 0.9895\n",
      "Epoch 25/100\n",
      "15/15 [==============================] - 0s 25ms/step - loss: 0.0288 - accuracy: 0.9958\n",
      "Epoch 26/100\n",
      "15/15 [==============================] - 0s 25ms/step - loss: 0.0369 - accuracy: 0.9958\n",
      "Epoch 27/100\n",
      "15/15 [==============================] - 0s 25ms/step - loss: 0.0297 - accuracy: 0.9937\n",
      "Epoch 28/100\n",
      "15/15 [==============================] - 0s 25ms/step - loss: 0.0413 - accuracy: 0.9895\n",
      "Epoch 29/100\n",
      "15/15 [==============================] - 0s 25ms/step - loss: 0.0240 - accuracy: 0.9979\n",
      "Epoch 30/100\n",
      "15/15 [==============================] - 0s 26ms/step - loss: 0.0315 - accuracy: 0.9916\n",
      "Epoch 31/100\n",
      "15/15 [==============================] - 0s 25ms/step - loss: 0.0356 - accuracy: 0.9916\n",
      "Epoch 32/100\n",
      "15/15 [==============================] - 0s 25ms/step - loss: 0.0249 - accuracy: 0.9937\n",
      "Epoch 33/100\n",
      "15/15 [==============================] - 0s 25ms/step - loss: 0.0202 - accuracy: 1.0000\n",
      "Epoch 34/100\n",
      "15/15 [==============================] - 0s 25ms/step - loss: 0.0343 - accuracy: 0.9916\n",
      "Epoch 35/100\n",
      "15/15 [==============================] - 0s 25ms/step - loss: 0.0287 - accuracy: 0.9958\n",
      "Epoch 36/100\n",
      "15/15 [==============================] - 0s 25ms/step - loss: 0.0360 - accuracy: 0.9895\n",
      "Epoch 37/100\n",
      "15/15 [==============================] - 0s 26ms/step - loss: 0.0245 - accuracy: 0.9937\n",
      "Epoch 38/100\n",
      "15/15 [==============================] - 0s 25ms/step - loss: 0.0383 - accuracy: 0.9895\n",
      "Epoch 39/100\n",
      "15/15 [==============================] - 0s 25ms/step - loss: 0.0443 - accuracy: 0.9832\n",
      "Epoch 40/100\n",
      "15/15 [==============================] - 0s 25ms/step - loss: 0.0223 - accuracy: 0.9979\n",
      "Epoch 41/100\n",
      "15/15 [==============================] - 0s 25ms/step - loss: 0.0194 - accuracy: 0.9937\n",
      "Epoch 42/100\n",
      "15/15 [==============================] - 0s 25ms/step - loss: 0.0197 - accuracy: 0.9958\n",
      "Epoch 43/100\n",
      "15/15 [==============================] - 0s 25ms/step - loss: 0.0197 - accuracy: 0.9958\n",
      "Epoch 44/100\n",
      "15/15 [==============================] - 0s 25ms/step - loss: 0.0204 - accuracy: 0.9979\n",
      "Epoch 45/100\n",
      "15/15 [==============================] - 0s 25ms/step - loss: 0.0118 - accuracy: 0.9979\n",
      "Epoch 46/100\n",
      "15/15 [==============================] - 0s 25ms/step - loss: 0.0132 - accuracy: 1.0000\n",
      "Epoch 47/100\n",
      "15/15 [==============================] - 0s 25ms/step - loss: 0.0238 - accuracy: 0.9937\n",
      "Epoch 48/100\n",
      "15/15 [==============================] - 0s 25ms/step - loss: 0.0124 - accuracy: 1.0000\n",
      "Epoch 49/100\n",
      "15/15 [==============================] - 0s 25ms/step - loss: 0.0272 - accuracy: 0.9937\n",
      "Epoch 50/100\n",
      "15/15 [==============================] - 0s 25ms/step - loss: 0.0156 - accuracy: 0.9979\n",
      "Epoch 51/100\n",
      "15/15 [==============================] - 0s 25ms/step - loss: 0.0086 - accuracy: 1.0000\n",
      "Epoch 52/100\n",
      "15/15 [==============================] - 0s 25ms/step - loss: 0.0136 - accuracy: 0.9958\n",
      "Epoch 53/100\n",
      "15/15 [==============================] - 0s 25ms/step - loss: 0.0173 - accuracy: 1.0000\n",
      "Epoch 54/100\n",
      "15/15 [==============================] - 0s 25ms/step - loss: 0.0176 - accuracy: 0.9958\n",
      "Epoch 55/100\n",
      "15/15 [==============================] - 0s 25ms/step - loss: 0.0175 - accuracy: 0.9958\n",
      "Epoch 56/100\n",
      "15/15 [==============================] - 0s 25ms/step - loss: 0.0149 - accuracy: 0.9979\n",
      "Epoch 57/100\n",
      "15/15 [==============================] - 0s 25ms/step - loss: 0.0194 - accuracy: 0.9937\n",
      "Epoch 58/100\n",
      "15/15 [==============================] - 0s 27ms/step - loss: 0.0195 - accuracy: 0.9937\n",
      "Epoch 59/100\n",
      "15/15 [==============================] - 0s 25ms/step - loss: 0.0098 - accuracy: 1.0000\n",
      "Epoch 60/100\n",
      "15/15 [==============================] - 0s 28ms/step - loss: 0.0107 - accuracy: 1.0000\n",
      "Epoch 61/100\n",
      "15/15 [==============================] - 0s 25ms/step - loss: 0.0124 - accuracy: 0.9958\n",
      "Epoch 62/100\n",
      "15/15 [==============================] - 0s 26ms/step - loss: 0.0134 - accuracy: 0.9979\n",
      "Epoch 63/100\n",
      "15/15 [==============================] - 0s 25ms/step - loss: 0.0155 - accuracy: 0.9958\n",
      "Epoch 64/100\n",
      "15/15 [==============================] - 0s 24ms/step - loss: 0.0123 - accuracy: 0.9958\n",
      "Epoch 65/100\n",
      "15/15 [==============================] - 0s 25ms/step - loss: 0.0122 - accuracy: 0.9958\n",
      "Epoch 66/100\n",
      "15/15 [==============================] - 0s 25ms/step - loss: 0.0117 - accuracy: 1.0000\n",
      "Epoch 67/100\n",
      "15/15 [==============================] - 0s 25ms/step - loss: 0.0167 - accuracy: 0.9958\n",
      "Epoch 68/100\n",
      "15/15 [==============================] - 0s 26ms/step - loss: 0.0087 - accuracy: 1.0000\n",
      "Epoch 69/100\n",
      "15/15 [==============================] - 0s 25ms/step - loss: 0.0147 - accuracy: 0.9979\n",
      "Epoch 70/100\n",
      "15/15 [==============================] - 0s 25ms/step - loss: 0.0204 - accuracy: 0.9979\n",
      "Epoch 71/100\n",
      "15/15 [==============================] - 0s 25ms/step - loss: 0.0117 - accuracy: 0.9958\n",
      "Epoch 72/100\n",
      "15/15 [==============================] - 0s 25ms/step - loss: 0.0120 - accuracy: 0.9979\n",
      "Epoch 73/100\n",
      "15/15 [==============================] - 0s 25ms/step - loss: 0.0139 - accuracy: 0.9979\n",
      "Epoch 74/100\n",
      "15/15 [==============================] - 0s 25ms/step - loss: 0.0113 - accuracy: 1.0000\n",
      "Epoch 75/100\n",
      "15/15 [==============================] - 0s 25ms/step - loss: 0.0203 - accuracy: 0.9958\n",
      "Epoch 76/100\n",
      "15/15 [==============================] - 0s 25ms/step - loss: 0.0131 - accuracy: 0.9958\n",
      "Epoch 77/100\n",
      "15/15 [==============================] - 0s 25ms/step - loss: 0.0099 - accuracy: 1.0000\n",
      "Epoch 78/100\n",
      "15/15 [==============================] - 0s 25ms/step - loss: 0.0096 - accuracy: 1.0000\n",
      "Epoch 79/100\n",
      "15/15 [==============================] - 0s 25ms/step - loss: 0.0146 - accuracy: 0.9937\n",
      "Epoch 80/100\n",
      "15/15 [==============================] - 0s 25ms/step - loss: 0.0125 - accuracy: 0.9958\n",
      "Epoch 81/100\n",
      "15/15 [==============================] - 0s 25ms/step - loss: 0.0054 - accuracy: 1.0000\n",
      "Epoch 82/100\n",
      "15/15 [==============================] - 0s 26ms/step - loss: 0.0084 - accuracy: 0.9979\n",
      "Epoch 83/100\n",
      "15/15 [==============================] - 0s 24ms/step - loss: 0.0068 - accuracy: 1.0000\n",
      "Epoch 84/100\n",
      "15/15 [==============================] - 0s 25ms/step - loss: 0.0059 - accuracy: 1.0000\n",
      "Epoch 85/100\n",
      "15/15 [==============================] - 0s 25ms/step - loss: 0.0093 - accuracy: 0.9958\n",
      "Epoch 86/100\n",
      "15/15 [==============================] - 0s 24ms/step - loss: 0.0071 - accuracy: 0.9979\n",
      "Epoch 87/100\n",
      "15/15 [==============================] - 0s 25ms/step - loss: 0.0086 - accuracy: 1.0000\n",
      "Epoch 88/100\n",
      "15/15 [==============================] - 0s 25ms/step - loss: 0.0081 - accuracy: 1.0000\n",
      "Epoch 89/100\n",
      "15/15 [==============================] - 0s 25ms/step - loss: 0.0102 - accuracy: 0.9979\n",
      "Epoch 90/100\n",
      "15/15 [==============================] - 0s 25ms/step - loss: 0.0100 - accuracy: 0.9979\n",
      "Epoch 91/100\n",
      "15/15 [==============================] - 0s 25ms/step - loss: 0.0081 - accuracy: 0.9979\n",
      "Epoch 92/100\n",
      "15/15 [==============================] - 0s 25ms/step - loss: 0.0212 - accuracy: 0.9937\n",
      "Epoch 93/100\n",
      "15/15 [==============================] - 0s 25ms/step - loss: 0.0107 - accuracy: 0.9979\n",
      "Epoch 94/100\n",
      "15/15 [==============================] - 0s 25ms/step - loss: 0.0100 - accuracy: 0.9979\n",
      "Epoch 95/100\n",
      "15/15 [==============================] - 0s 25ms/step - loss: 0.0060 - accuracy: 1.0000\n",
      "Epoch 96/100\n",
      "15/15 [==============================] - 0s 26ms/step - loss: 0.0102 - accuracy: 0.9958\n",
      "Epoch 97/100\n",
      "15/15 [==============================] - 0s 25ms/step - loss: 0.0096 - accuracy: 0.9979\n",
      "Epoch 98/100\n",
      "15/15 [==============================] - 0s 25ms/step - loss: 0.0122 - accuracy: 0.9979\n",
      "Epoch 99/100\n",
      "15/15 [==============================] - 0s 25ms/step - loss: 0.0063 - accuracy: 1.0000\n",
      "Epoch 100/100\n",
      "15/15 [==============================] - 0s 24ms/step - loss: 0.0154 - accuracy: 0.9937\n"
     ]
    }
   ],
   "source": [
    "history=model.fit(x_train,y_train,epochs=100)"
   ]
  },
  {
   "attachments": {},
   "cell_type": "markdown",
   "metadata": {},
   "source": [
    "Plotting loss and accuracy curve\n"
   ]
  },
  {
   "cell_type": "code",
   "execution_count": 12,
   "metadata": {},
   "outputs": [
    {
     "data": {
      "image/png": "[encoded data removed]",
      "text/plain": [
       "<Figure size 640x480 with 1 Axes>"
      ]
     },
     "metadata": {},
     "output_type": "display_data"
    },
    {
     "data": {
      "image/png": "[encoded data removed]",
      "text/plain": [
       "<Figure size 640x480 with 1 Axes>"
      ]
     },
     "metadata": {},
     "output_type": "display_data"
    }
   ],
   "source": [
    "import matplotlib.pyplot as plt\n",
    "\n",
    "plt.plot(history.history['loss'], label='Training Loss')\n",
    "plt.xlabel('Epochs')\n",
    "plt.ylabel('Loss')\n",
    "plt.legend()\n",
    "plt.show()\n",
    "\n",
    "plt.plot(history.history['accuracy'], label='Training Accuracy')\n",
    "plt.xlabel('Epochs')\n",
    "plt.ylabel('Accuracy')\n",
    "plt.legend()\n",
    "plt.show()"
   ]
  },
  {
   "attachments": {},
   "cell_type": "markdown",
   "metadata": {},
   "source": [
    "Model Testing"
   ]
  },
  {
   "cell_type": "code",
   "execution_count": 13,
   "metadata": {},
   "outputs": [
    {
     "name": "stdout",
     "output_type": "stream",
     "text": [
      "4/4 [==============================] - 1s 171ms/step - loss: 0.0308 - accuracy: 0.9833\n"
     ]
    },
    {
     "data": {
      "text/plain": [
       "[0.030753012746572495, 0.9833333492279053]"
      ]
     },
     "execution_count": 13,
     "metadata": {},
     "output_type": "execute_result"
    }
   ],
   "source": [
    "model.evaluate(x_test,y_test)"
   ]
  },
  {
   "attachments": {},
   "cell_type": "markdown",
   "metadata": {},
   "source": [
    "Saving our model"
   ]
  },
  {
   "cell_type": "code",
   "execution_count": 37,
   "metadata": {},
   "outputs": [],
   "source": [
    "model.save('MobileModel.h5')"
   ]
  }
 ],
 "metadata": {
  "kernelspec": {
   "display_name": "Python 3",
   "language": "python",
   "name": "python3"
  },
  "language_info": {
   "codemirror_mode": {
    "name": "ipython",
    "version": 3
   },
   "file_extension": ".py",
   "mimetype": "text/x-python",
   "name": "python",
   "nbconvert_exporter": "python",
   "pygments_lexer": "ipython3",
   "version": "3.9.0"
  },
  "orig_nbformat": 4
 },
 "nbformat": 4,
 "nbformat_minor": 2
}
