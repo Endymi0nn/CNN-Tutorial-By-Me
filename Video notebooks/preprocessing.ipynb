{
 "cells": [
  {
   "cell_type": "code",
   "execution_count": 1,
   "metadata": {},
   "outputs": [],
   "source": [
    "import os\n",
    "\n",
    "from IPython import display\n",
    "import matplotlib.pyplot as plt\n",
    "import numpy as np\n",
    "import pandas as pd\n",
    "\n",
    "import tensorflow as tf"
   ]
  },
  {
   "attachments": {},
   "cell_type": "markdown",
   "metadata": {},
   "source": [
    "Defining our classes"
   ]
  },
  {
   "cell_type": "code",
   "execution_count": 2,
   "metadata": {},
   "outputs": [],
   "source": [
    "classes={'Transistor':0,'Resistor':1,'Capacitor':2,'LED':3,'Chip':4,'Misc':5}"
   ]
  },
  {
   "attachments": {},
   "cell_type": "markdown",
   "metadata": {},
   "source": [
    "Getting path list for each class"
   ]
  },
  {
   "cell_type": "code",
   "execution_count": 3,
   "metadata": {},
   "outputs": [],
   "source": [
    "import pathlib\n",
    "dataset_dir = pathlib.Path(\"dataset\")\n",
    "\n",
    "Trans_paths = list(dataset_dir.glob(\"Transistors/*\"))\n",
    "Res_paths = list(dataset_dir.glob(\"Resistors/*\"))\n",
    "LED_paths = list(dataset_dir.glob(\"LEDs/*\"))\n",
    "Cap_paths = list(dataset_dir.glob(\"Capacitors/*\"))\n",
    "Chip_paths = list(dataset_dir.glob(\"Chips/*\"))\n",
    "Misc_paths = list(dataset_dir.glob(\"Misc/*\"))"
   ]
  },
  {
   "cell_type": "code",
   "execution_count": 4,
   "metadata": {},
   "outputs": [
    {
     "data": {
      "text/plain": [
       "[WindowsPath('dataset/Transistors/transistor (1).jpeg'),\n",
       " WindowsPath('dataset/Transistors/transistor (1).jpg'),\n",
       " WindowsPath('dataset/Transistors/transistor (1).png'),\n",
       " WindowsPath('dataset/Transistors/transistor (10).jpg'),\n",
       " WindowsPath('dataset/Transistors/transistor (11).jpg'),\n",
       " WindowsPath('dataset/Transistors/transistor (12).jpg'),\n",
       " WindowsPath('dataset/Transistors/transistor (13).jpg'),\n",
       " WindowsPath('dataset/Transistors/transistor (14).jpg'),\n",
       " WindowsPath('dataset/Transistors/transistor (15).jpg'),\n",
       " WindowsPath('dataset/Transistors/transistor (16).jpg'),\n",
       " WindowsPath('dataset/Transistors/transistor (17).jpg'),\n",
       " WindowsPath('dataset/Transistors/transistor (18).jpg'),\n",
       " WindowsPath('dataset/Transistors/transistor (19).jpg'),\n",
       " WindowsPath('dataset/Transistors/transistor (2).jpg'),\n",
       " WindowsPath('dataset/Transistors/transistor (2).png'),\n",
       " WindowsPath('dataset/Transistors/transistor (20).jpg'),\n",
       " WindowsPath('dataset/Transistors/transistor (21).jpg'),\n",
       " WindowsPath('dataset/Transistors/transistor (22).jpg'),\n",
       " WindowsPath('dataset/Transistors/transistor (23).jpg'),\n",
       " WindowsPath('dataset/Transistors/transistor (24).jpg'),\n",
       " WindowsPath('dataset/Transistors/transistor (25).jpg'),\n",
       " WindowsPath('dataset/Transistors/transistor (26).jpg'),\n",
       " WindowsPath('dataset/Transistors/transistor (27).jpg'),\n",
       " WindowsPath('dataset/Transistors/transistor (28).jpg'),\n",
       " WindowsPath('dataset/Transistors/transistor (29).jpg'),\n",
       " WindowsPath('dataset/Transistors/transistor (3).jpg'),\n",
       " WindowsPath('dataset/Transistors/transistor (3).png'),\n",
       " WindowsPath('dataset/Transistors/transistor (30).jpg'),\n",
       " WindowsPath('dataset/Transistors/transistor (31).jpg'),\n",
       " WindowsPath('dataset/Transistors/transistor (32).jpg'),\n",
       " WindowsPath('dataset/Transistors/transistor (33).jpg'),\n",
       " WindowsPath('dataset/Transistors/transistor (34).jpg'),\n",
       " WindowsPath('dataset/Transistors/transistor (35).jpg'),\n",
       " WindowsPath('dataset/Transistors/transistor (36).jpg'),\n",
       " WindowsPath('dataset/Transistors/transistor (37).jpg'),\n",
       " WindowsPath('dataset/Transistors/transistor (38).jpg'),\n",
       " WindowsPath('dataset/Transistors/transistor (39).jpg'),\n",
       " WindowsPath('dataset/Transistors/transistor (4).jpg'),\n",
       " WindowsPath('dataset/Transistors/transistor (4).png'),\n",
       " WindowsPath('dataset/Transistors/transistor (40).jpg'),\n",
       " WindowsPath('dataset/Transistors/transistor (41).jpg'),\n",
       " WindowsPath('dataset/Transistors/transistor (42).jpg'),\n",
       " WindowsPath('dataset/Transistors/transistor (43).jpg'),\n",
       " WindowsPath('dataset/Transistors/transistor (44).jpg'),\n",
       " WindowsPath('dataset/Transistors/transistor (45).jpg'),\n",
       " WindowsPath('dataset/Transistors/transistor (46).jpg'),\n",
       " WindowsPath('dataset/Transistors/transistor (47).jpg'),\n",
       " WindowsPath('dataset/Transistors/transistor (48).jpg'),\n",
       " WindowsPath('dataset/Transistors/transistor (49).jpg'),\n",
       " WindowsPath('dataset/Transistors/transistor (5).jpg'),\n",
       " WindowsPath('dataset/Transistors/transistor (50).jpg'),\n",
       " WindowsPath('dataset/Transistors/transistor (51).jpg'),\n",
       " WindowsPath('dataset/Transistors/transistor (52).jpg'),\n",
       " WindowsPath('dataset/Transistors/transistor (53).jpg'),\n",
       " WindowsPath('dataset/Transistors/transistor (54).jpg'),\n",
       " WindowsPath('dataset/Transistors/transistor (55).jpg'),\n",
       " WindowsPath('dataset/Transistors/transistor (56).jpg'),\n",
       " WindowsPath('dataset/Transistors/transistor (57).jpg'),\n",
       " WindowsPath('dataset/Transistors/transistor (58).jpg'),\n",
       " WindowsPath('dataset/Transistors/transistor (59).jpg'),\n",
       " WindowsPath('dataset/Transistors/transistor (6).jpg'),\n",
       " WindowsPath('dataset/Transistors/transistor (60).jpg'),\n",
       " WindowsPath('dataset/Transistors/transistor (61).jpg'),\n",
       " WindowsPath('dataset/Transistors/transistor (62).jpg'),\n",
       " WindowsPath('dataset/Transistors/transistor (63).jpg'),\n",
       " WindowsPath('dataset/Transistors/transistor (64).jpg'),\n",
       " WindowsPath('dataset/Transistors/transistor (65).jpg'),\n",
       " WindowsPath('dataset/Transistors/transistor (66).jpg'),\n",
       " WindowsPath('dataset/Transistors/transistor (67).jpg'),\n",
       " WindowsPath('dataset/Transistors/transistor (68).jpg'),\n",
       " WindowsPath('dataset/Transistors/transistor (69).jpg'),\n",
       " WindowsPath('dataset/Transistors/transistor (7).jpg'),\n",
       " WindowsPath('dataset/Transistors/transistor (70).jpg'),\n",
       " WindowsPath('dataset/Transistors/transistor (71).jpg'),\n",
       " WindowsPath('dataset/Transistors/transistor (72).jpg'),\n",
       " WindowsPath('dataset/Transistors/transistor (73).jpg'),\n",
       " WindowsPath('dataset/Transistors/transistor (74).jpg'),\n",
       " WindowsPath('dataset/Transistors/transistor (75).jpg'),\n",
       " WindowsPath('dataset/Transistors/transistor (76).jpg'),\n",
       " WindowsPath('dataset/Transistors/transistor (77).jpg'),\n",
       " WindowsPath('dataset/Transistors/transistor (78).jpg'),\n",
       " WindowsPath('dataset/Transistors/transistor (79).jpg'),\n",
       " WindowsPath('dataset/Transistors/transistor (8).jpg'),\n",
       " WindowsPath('dataset/Transistors/transistor (80).jpg'),\n",
       " WindowsPath('dataset/Transistors/transistor (81).jpg'),\n",
       " WindowsPath('dataset/Transistors/transistor (82).jpg'),\n",
       " WindowsPath('dataset/Transistors/transistor (83).jpg'),\n",
       " WindowsPath('dataset/Transistors/transistor (84).jpg'),\n",
       " WindowsPath('dataset/Transistors/transistor (85).jpg'),\n",
       " WindowsPath('dataset/Transistors/transistor (86).jpg'),\n",
       " WindowsPath('dataset/Transistors/transistor (87).jpg'),\n",
       " WindowsPath('dataset/Transistors/transistor (88).jpg'),\n",
       " WindowsPath('dataset/Transistors/transistor (89).jpg'),\n",
       " WindowsPath('dataset/Transistors/transistor (9).jpg'),\n",
       " WindowsPath('dataset/Transistors/transistor (90).jpg'),\n",
       " WindowsPath('dataset/Transistors/transistor (91).jpg'),\n",
       " WindowsPath('dataset/Transistors/transistor (92).jpg'),\n",
       " WindowsPath('dataset/Transistors/transistor (93).jpg'),\n",
       " WindowsPath('dataset/Transistors/Transistor_1.jpg'),\n",
       " WindowsPath('dataset/Transistors/transistor_2.jpg')]"
      ]
     },
     "execution_count": 4,
     "metadata": {},
     "output_type": "execute_result"
    }
   ],
   "source": [
    "Trans_paths"
   ]
  },
  {
   "attachments": {},
   "cell_type": "markdown",
   "metadata": {},
   "source": [
    "Creating dataframes for each class"
   ]
  },
  {
   "cell_type": "code",
   "execution_count": 5,
   "metadata": {},
   "outputs": [],
   "source": [
    "Trans_data = pd.DataFrame({'path': [i for i in Trans_paths], 'class': [classes['Transistor'] for i in range(len(Trans_paths))]})\n",
    "Res_data = pd.DataFrame({'path': [i for i in Res_paths], 'class': [classes['Resistor'] for i in range(len(Res_paths))]})\n",
    "LED_data = pd.DataFrame({'path': [i for i in LED_paths], 'class': [classes['LED'] for i in range(len(LED_paths))]})\n",
    "Cap_data = pd.DataFrame({'path': [i for i in Cap_paths], 'class': [classes['Capacitor'] for i in range(len(Cap_paths))]})\n",
    "Chip_data = pd.DataFrame({'path': [i for i in Chip_paths], 'class': [classes['Chip'] for i in range(len(Chip_paths))]})\n",
    "Misc_data = pd.DataFrame({'path': [i for i in Misc_paths], 'class': [classes['Misc'] for i in range(len(Misc_paths))]})\n"
   ]
  },
  {
   "cell_type": "code",
   "execution_count": 6,
   "metadata": {},
   "outputs": [
    {
     "data": {
      "text/html": [
       "<div>\n",
       "<style scoped>\n",
       "    .dataframe tbody tr th:only-of-type {\n",
       "        vertical-align: middle;\n",
       "    }\n",
       "\n",
       "    .dataframe tbody tr th {\n",
       "        vertical-align: top;\n",
       "    }\n",
       "\n",
       "    .dataframe thead th {\n",
       "        text-align: right;\n",
       "    }\n",
       "</style>\n",
       "<table border=\"1\" class=\"dataframe\">\n",
       "  <thead>\n",
       "    <tr style=\"text-align: right;\">\n",
       "      <th></th>\n",
       "      <th>path</th>\n",
       "      <th>class</th>\n",
       "    </tr>\n",
       "  </thead>\n",
       "  <tbody>\n",
       "    <tr>\n",
       "      <th>0</th>\n",
       "      <td>dataset\\Transistors\\transistor (1).jpeg</td>\n",
       "      <td>0</td>\n",
       "    </tr>\n",
       "    <tr>\n",
       "      <th>1</th>\n",
       "      <td>dataset\\Transistors\\transistor (1).jpg</td>\n",
       "      <td>0</td>\n",
       "    </tr>\n",
       "    <tr>\n",
       "      <th>2</th>\n",
       "      <td>dataset\\Transistors\\transistor (1).png</td>\n",
       "      <td>0</td>\n",
       "    </tr>\n",
       "    <tr>\n",
       "      <th>3</th>\n",
       "      <td>dataset\\Transistors\\transistor (10).jpg</td>\n",
       "      <td>0</td>\n",
       "    </tr>\n",
       "    <tr>\n",
       "      <th>4</th>\n",
       "      <td>dataset\\Transistors\\transistor (11).jpg</td>\n",
       "      <td>0</td>\n",
       "    </tr>\n",
       "    <tr>\n",
       "      <th>...</th>\n",
       "      <td>...</td>\n",
       "      <td>...</td>\n",
       "    </tr>\n",
       "    <tr>\n",
       "      <th>95</th>\n",
       "      <td>dataset\\Transistors\\transistor (91).jpg</td>\n",
       "      <td>0</td>\n",
       "    </tr>\n",
       "    <tr>\n",
       "      <th>96</th>\n",
       "      <td>dataset\\Transistors\\transistor (92).jpg</td>\n",
       "      <td>0</td>\n",
       "    </tr>\n",
       "    <tr>\n",
       "      <th>97</th>\n",
       "      <td>dataset\\Transistors\\transistor (93).jpg</td>\n",
       "      <td>0</td>\n",
       "    </tr>\n",
       "    <tr>\n",
       "      <th>98</th>\n",
       "      <td>dataset\\Transistors\\Transistor_1.jpg</td>\n",
       "      <td>0</td>\n",
       "    </tr>\n",
       "    <tr>\n",
       "      <th>99</th>\n",
       "      <td>dataset\\Transistors\\transistor_2.jpg</td>\n",
       "      <td>0</td>\n",
       "    </tr>\n",
       "  </tbody>\n",
       "</table>\n",
       "<p>100 rows × 2 columns</p>\n",
       "</div>"
      ],
      "text/plain": [
       "                                       path  class\n",
       "0   dataset\\Transistors\\transistor (1).jpeg      0\n",
       "1    dataset\\Transistors\\transistor (1).jpg      0\n",
       "2    dataset\\Transistors\\transistor (1).png      0\n",
       "3   dataset\\Transistors\\transistor (10).jpg      0\n",
       "4   dataset\\Transistors\\transistor (11).jpg      0\n",
       "..                                      ...    ...\n",
       "95  dataset\\Transistors\\transistor (91).jpg      0\n",
       "96  dataset\\Transistors\\transistor (92).jpg      0\n",
       "97  dataset\\Transistors\\transistor (93).jpg      0\n",
       "98     dataset\\Transistors\\Transistor_1.jpg      0\n",
       "99     dataset\\Transistors\\transistor_2.jpg      0\n",
       "\n",
       "[100 rows x 2 columns]"
      ]
     },
     "execution_count": 6,
     "metadata": {},
     "output_type": "execute_result"
    }
   ],
   "source": [
    "Trans_data"
   ]
  },
  {
   "attachments": {},
   "cell_type": "markdown",
   "metadata": {},
   "source": [
    "Making final dataframe"
   ]
  },
  {
   "cell_type": "code",
   "execution_count": 7,
   "metadata": {},
   "outputs": [],
   "source": [
    "final_data = pd.concat([Trans_data,Res_data,LED_data,Cap_data,Chip_data,Misc_data], axis=0).reset_index(drop=True)"
   ]
  },
  {
   "cell_type": "code",
   "execution_count": 8,
   "metadata": {},
   "outputs": [
    {
     "data": {
      "text/html": [
       "<div>\n",
       "<style scoped>\n",
       "    .dataframe tbody tr th:only-of-type {\n",
       "        vertical-align: middle;\n",
       "    }\n",
       "\n",
       "    .dataframe tbody tr th {\n",
       "        vertical-align: top;\n",
       "    }\n",
       "\n",
       "    .dataframe thead th {\n",
       "        text-align: right;\n",
       "    }\n",
       "</style>\n",
       "<table border=\"1\" class=\"dataframe\">\n",
       "  <thead>\n",
       "    <tr style=\"text-align: right;\">\n",
       "      <th></th>\n",
       "      <th>path</th>\n",
       "      <th>class</th>\n",
       "    </tr>\n",
       "  </thead>\n",
       "  <tbody>\n",
       "    <tr>\n",
       "      <th>359</th>\n",
       "      <td>dataset\\Capacitors\\E_capacitor (65).jpg</td>\n",
       "      <td>2</td>\n",
       "    </tr>\n",
       "    <tr>\n",
       "      <th>110</th>\n",
       "      <td>dataset\\Resistors\\Resistor_19.jpg</td>\n",
       "      <td>1</td>\n",
       "    </tr>\n",
       "    <tr>\n",
       "      <th>203</th>\n",
       "      <td>dataset\\LEDs\\Led_14.jpg</td>\n",
       "      <td>3</td>\n",
       "    </tr>\n",
       "    <tr>\n",
       "      <th>373</th>\n",
       "      <td>dataset\\Capacitors\\E_capacitor (78).jpg</td>\n",
       "      <td>2</td>\n",
       "    </tr>\n",
       "    <tr>\n",
       "      <th>511</th>\n",
       "      <td>dataset\\Misc\\photo-1516747773440-e114ee0d3c07.jpg</td>\n",
       "      <td>5</td>\n",
       "    </tr>\n",
       "  </tbody>\n",
       "</table>\n",
       "</div>"
      ],
      "text/plain": [
       "                                                  path  class\n",
       "359            dataset\\Capacitors\\E_capacitor (65).jpg      2\n",
       "110                  dataset\\Resistors\\Resistor_19.jpg      1\n",
       "203                            dataset\\LEDs\\Led_14.jpg      3\n",
       "373            dataset\\Capacitors\\E_capacitor (78).jpg      2\n",
       "511  dataset\\Misc\\photo-1516747773440-e114ee0d3c07.jpg      5"
      ]
     },
     "execution_count": 8,
     "metadata": {},
     "output_type": "execute_result"
    }
   ],
   "source": [
    "final_data.sample(5)"
   ]
  },
  {
   "attachments": {},
   "cell_type": "markdown",
   "metadata": {},
   "source": [
    "Creating the feature and label array"
   ]
  },
  {
   "cell_type": "code",
   "execution_count": 9,
   "metadata": {},
   "outputs": [],
   "source": [
    "import cv2\n",
    "import PIL"
   ]
  },
  {
   "cell_type": "code",
   "execution_count": 10,
   "metadata": {},
   "outputs": [],
   "source": [
    "X=[] #Feature list\n",
    "Y=[] #Label\n",
    "\n",
    "for i, j in zip(final_data['path'], final_data['class']):\n",
    "    img = cv2.imread(str(i))\n",
    "    resized_img = cv2.resize(img, (128,128))\n",
    "    X.append(resized_img)\n",
    "    Y.append(int(j))\n"
   ]
  },
  {
   "cell_type": "code",
   "execution_count": 11,
   "metadata": {},
   "outputs": [],
   "source": [
    "X=np.array(X)\n",
    "Y=np.array(Y)"
   ]
  },
  {
   "cell_type": "code",
   "execution_count": 12,
   "metadata": {},
   "outputs": [
    {
     "data": {
      "text/plain": [
       "(597, 128, 128, 3)"
      ]
     },
     "execution_count": 12,
     "metadata": {},
     "output_type": "execute_result"
    }
   ],
   "source": [
    "X.shape"
   ]
  },
  {
   "cell_type": "code",
   "execution_count": 13,
   "metadata": {},
   "outputs": [
    {
     "data": {
      "text/plain": [
       "(597,)"
      ]
     },
     "execution_count": 13,
     "metadata": {},
     "output_type": "execute_result"
    }
   ],
   "source": [
    "Y.shape"
   ]
  },
  {
   "attachments": {},
   "cell_type": "markdown",
   "metadata": {},
   "source": [
    "Showing Data\n"
   ]
  },
  {
   "cell_type": "code",
   "execution_count": 14,
   "metadata": {},
   "outputs": [
    {
     "data": {
      "image/png": "[encoded data removed]",
      "text/plain": [
       "<Figure size 640x480 with 1 Axes>"
      ]
     },
     "metadata": {},
     "output_type": "display_data"
    }
   ],
   "source": [
    "from matplotlib import pyplot as plt\n",
    "plt.imshow(X[303], interpolation='nearest')\n",
    "plt.show()"
   ]
  },
  {
   "cell_type": "code",
   "execution_count": 15,
   "metadata": {},
   "outputs": [
    {
     "data": {
      "text/plain": [
       "2"
      ]
     },
     "execution_count": 15,
     "metadata": {},
     "output_type": "execute_result"
    }
   ],
   "source": [
    "Y[303]"
   ]
  },
  {
   "attachments": {},
   "cell_type": "markdown",
   "metadata": {},
   "source": [
    "Saving our arrays"
   ]
  },
  {
   "cell_type": "code",
   "execution_count": 16,
   "metadata": {},
   "outputs": [],
   "source": [
    "np.savez('Preprocessed_data',X,Y)"
   ]
  }
 ],
 "metadata": {
  "kernelspec": {
   "display_name": "Python 3",
   "language": "python",
   "name": "python3"
  },
  "language_info": {
   "codemirror_mode": {
    "name": "ipython",
    "version": 3
   },
   "file_extension": ".py",
   "mimetype": "text/x-python",
   "name": "python",
   "nbconvert_exporter": "python",
   "pygments_lexer": "ipython3",
   "version": "3.9.0"
  },
  "orig_nbformat": 4
 },
 "nbformat": 4,
 "nbformat_minor": 2
}
